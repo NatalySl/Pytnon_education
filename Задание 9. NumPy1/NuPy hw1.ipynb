{
 "cells": [
  {
   "cell_type": "code",
   "execution_count": 11,
   "metadata": {},
   "outputs": [],
   "source": [
    "import numpy as np\n",
    "from numpy import linalg"
   ]
  },
  {
   "cell_type": "code",
   "execution_count": 21,
   "metadata": {},
   "outputs": [
    {
     "name": "stdout",
     "output_type": "stream",
     "text": [
      "[0 1 2 3 4 5 6 7 8 9]\n",
      "[9 8 7 6 5 4 3 2 1 0]\n"
     ]
    }
   ],
   "source": [
    "#Задание 1\n",
    "#Создайте numpy array с элементами от числа N до 0 \n",
    "#(например, для N = 10 это будет array([9, 8, 7, 6, 5, 4, 3, 2, 1, 0])).\n",
    "N = 10\n",
    "arr = np.arange(0,N)\n",
    "reversed_arr = arr[::-1]\n",
    "print(arr)\n",
    "print(reversed_arr)"
   ]
  },
  {
   "cell_type": "code",
   "execution_count": 39,
   "metadata": {},
   "outputs": [
    {
     "name": "stdout",
     "output_type": "stream",
     "text": [
      "[[9 0 0 0 0 0 0 0 0 0]\n",
      " [0 8 0 0 0 0 0 0 0 0]\n",
      " [0 0 7 0 0 0 0 0 0 0]\n",
      " [0 0 0 6 0 0 0 0 0 0]\n",
      " [0 0 0 0 5 0 0 0 0 0]\n",
      " [0 0 0 0 0 4 0 0 0 0]\n",
      " [0 0 0 0 0 0 3 0 0 0]\n",
      " [0 0 0 0 0 0 0 2 0 0]\n",
      " [0 0 0 0 0 0 0 0 1 0]\n",
      " [0 0 0 0 0 0 0 0 0 0]]\n",
      "Сумма значений по диогонали равна 45\n"
     ]
    }
   ],
   "source": [
    "#Задание 2\n",
    "#Создайте диагональную матрицу с элементами от N до 0. \n",
    "#Посчитайте сумму ее значений на диагонали.\n",
    "m_diag_np = np.diag(reversed_arr)\n",
    "Sum = sum(reversed_arr)\n",
    "print(m_diag_np)\n",
    "print (f'Сумма значений по диогонали равна {Sum}')"
   ]
  },
  {
   "cell_type": "code",
   "execution_count": 13,
   "metadata": {},
   "outputs": [
    {
     "data": {
      "text/plain": [
       "array([ 0.46666667,  3.84444444, -5.55555556])"
      ]
     },
     "execution_count": 13,
     "metadata": {},
     "output_type": "execute_result"
    }
   ],
   "source": [
    "#Задание 3\n",
    "#Решите систему уравнений:\n",
    "#4x + 2y + z = 4\n",
    "#x + 3y = 12\n",
    "#5y + 4z = -3\n",
    "\n",
    "a = np.array([[4,2,1],[1,3,0],[0,5,4]])\n",
    "b = np.array ([4,12,-3])\n",
    "linalg.solve(a, b)"
   ]
  },
  {
   "cell_type": "markdown",
   "metadata": {},
   "source": [
    "Задание 4. На сайт заходит очередной посетитель,о покупках которого известно следующее:"
   ]
  },
  {
   "cell_type": "code",
   "execution_count": 45,
   "metadata": {},
   "outputs": [],
   "source": [
    "next_user_stats = np.array([0, 1, 2, 0, 0, 0])"
   ]
  },
  {
   "cell_type": "markdown",
   "metadata": {},
   "source": [
    "Найдите самого похожего пользователя. Т. е. посчитайте косинусное расстояние между этим пользователем и всеми пользователями из массива user_stats"
   ]
  },
  {
   "cell_type": "code",
   "execution_count": 41,
   "metadata": {},
   "outputs": [],
   "source": [
    "users_stats = np.array(\n",
    "    [\n",
    "        [2, 1, 0, 0, 0, 0],\n",
    "        [1, 1, 2, 1, 0, 0],\n",
    "        [2, 0, 1, 0, 0, 0],\n",
    "        [1, 1, 2, 1, 0, 1],\n",
    "        [0, 0, 1, 2, 0, 0],\n",
    "        [0, 0, 0, 0, 0, 5],\n",
    "        [1, 0, 0, 0, 0, 0],\n",
    "        [0, 1, 1, 0, 0, 0],\n",
    "        [0, 0, 0, 1, 1, 3],\n",
    "        [1, 0, 0, 2, 1, 4]\n",
    "    ], \n",
    ")"
   ]
  },
  {
   "cell_type": "code",
   "execution_count": null,
   "metadata": {},
   "outputs": [],
   "source": [
    "def cosine( a, b ):\n",
    "    \"\"\"\n",
    "    Подсчет косинуса угла между векторами a, b по их координатам\n",
    "    \"\"\"\n",
    "    \n",
    "    # длины векторов\n",
    "    aLength = np.linalg.norm( a )\n",
    "    bLength = np.linalg.norm( b )\n",
    "    \n",
    "    return np.dot( a, b ) / ( aLength * bLength )"
   ]
  },
  {
   "cell_type": "code",
   "execution_count": 76,
   "metadata": {},
   "outputs": [
    {
     "name": "stdout",
     "output_type": "stream",
     "text": [
      "{1: [78.46304096718453], 2: [32.311533237423866], 3: [66.42182152179818], 4: [37.761243907035045], 5: [66.42182152179818], 6: [90.0], 7: [90.0], 8: [18.434948822922017], 9: [90.0], 10: [90.0]}\n",
      "Самый схожий пользователь с next_user_stats пользователь номер 8\n"
     ]
    }
   ],
   "source": [
    "users_dict = dict()\n",
    "cos_ = []\n",
    "for i, el in enumerate (users_stats):\n",
    "    a = np.arccos( cosine( el, next_user_stats ) ) * 360 / 2 / np.pi\n",
    "    users_dict[i+1] = [a]\n",
    "    cos_.append(a)\n",
    "print(users_dict)\n",
    "minimum = min(cos_)\n",
    "for key, value in users_dict.items():\n",
    "    if value == minimum:\n",
    "        print(f'Самый схожий пользователь с next_user_stats пользователь номер {key}')"
   ]
  }
 ],
 "metadata": {
  "kernelspec": {
   "display_name": "Python 3",
   "language": "python",
   "name": "python3"
  },
  "language_info": {
   "codemirror_mode": {
    "name": "ipython",
    "version": 3
   },
   "file_extension": ".py",
   "mimetype": "text/x-python",
   "name": "python",
   "nbconvert_exporter": "python",
   "pygments_lexer": "ipython3",
   "version": "3.7.4"
  }
 },
 "nbformat": 4,
 "nbformat_minor": 2
}
