{
 "cells": [
  {
   "cell_type": "code",
   "execution_count": 2,
   "metadata": {},
   "outputs": [],
   "source": [
    "import re"
   ]
  },
  {
   "cell_type": "code",
   "execution_count": null,
   "metadata": {},
   "outputs": [],
   "source": [
    "#Задание 1\n",
    "#Напишите функцию, которая принимает на вход строку и проверяет является ли она валидным транспортным номером. \n",
    "#Если да, то функция должна возвращать отдельно номер и регион.\n",
    "#^[АВЕКМНОРСТУХ]\\d{3}[АВЕКМНОРСТУХ]{2}\\d{2,3}RUS\n",
    "number = 'А472ВХ66RUS'\n",
    "number1 = 'a456kl'\n",
    "\n",
    "\n",
    "def auto_number(string):\n",
    "    result = re.findall(r'(^[АВЕКМНОРСТУХ]\\d{3}[АВЕКМНОРСТУХ]{2})(\\d{2,3})', string)\n",
    "    if (result):\n",
    "        return print (f'{result[0][0]}, {result[0][1]}')\n",
    "    return print ('не является номером')\n",
    "    \n",
    "auto_number(number)"
   ]
  },
  {
   "cell_type": "code",
   "execution_count": null,
   "metadata": {},
   "outputs": [],
   "source": [
    "Задание 2\n",
    "**Задание 2.**\n",
    " Постарайтесь написать (в крайнем случае найти) самый полный шаблон для проверки e-mail адресов через регулярное выражение, которая проверяет e-mail адрес на валидность. Можно руководствоваться следующими минимальными требованиями:\n",
    "• адрес должен содержать специальный символ \"@\", который отделяет имя пользователя почтовой системы от доменного имени;\n",
    "• адрес не должен содержать следующие символы: \"пробел\", \",\", \":\", \";\", \"!\", \"#\", \"%\", \"*\", \"(\", \")\", \"=\", \"+\", \"{\", \"}\", \" \" \", \" ' \", \" / \", \" \\ \" и \"|\";\n",
    "• адрес должен состоять только из латинских символов;\n",
    "• после символа \"@\" должна быть как минимум одна \".\";\n",
    "• после последней точки должно быть не менее 2-х и не более 4-х символов, причем наличие цифр не допускается;\n",
    "• между последней точкой и символом \"@\" должно быть не менее 2-х символов\n",
    "• слева от \"@\" должно быть не менее четырех символов"
   ]
  },
  {
   "cell_type": "code",
   "execution_count": 7,
   "metadata": {},
   "outputs": [
    {
     "data": {
      "text/plain": [
       "['Test_2285@yandex.ru']"
      ]
     },
     "execution_count": 7,
     "metadata": {},
     "output_type": "execute_result"
    }
   ],
   "source": [
    "# Решение задачи 2\n",
    "mail = 'Test_2285@yandex.ru'\n",
    "re.findall(r'^[A-Za-z0-9._]{4,}@[A-Za-z0-9-]+.+[A-Za-z]{2,4}', mail)"
   ]
  },
  {
   "cell_type": "code",
   "execution_count": null,
   "metadata": {},
   "outputs": [],
   "source": [
    "Задание 3. Напишите функцию, которая будет удалять все последовательные повторы слов из заданной строки \n",
    "при помощи регулярных выражений."
   ]
  },
  {
   "cell_type": "code",
   "execution_count": 11,
   "metadata": {},
   "outputs": [
    {
     "data": {
      "text/plain": [
       "'удалить повторы удалить повторы'"
      ]
     },
     "execution_count": 11,
     "metadata": {},
     "output_type": "execute_result"
    }
   ],
   "source": [
    "# Решение задачи 3\n",
    "def remove_repeats(text):\n",
    "    return re.sub(r'(\\b\\w+)(\\s\\1)+', r'\\1', text)\n",
    "text = 'удалить удалить повторы удалить повторы повторы'\n",
    "remove_repeats(text)"
   ]
  },
  {
   "cell_type": "code",
   "execution_count": null,
   "metadata": {},
   "outputs": [],
   "source": []
  }
 ],
 "metadata": {
  "kernelspec": {
   "display_name": "Python 3",
   "language": "python",
   "name": "python3"
  },
  "language_info": {
   "codemirror_mode": {
    "name": "ipython",
    "version": 3
   },
   "file_extension": ".py",
   "mimetype": "text/x-python",
   "name": "python",
   "nbconvert_exporter": "python",
   "pygments_lexer": "ipython3",
   "version": "3.7.4"
  }
 },
 "nbformat": 4,
 "nbformat_minor": 2
}
