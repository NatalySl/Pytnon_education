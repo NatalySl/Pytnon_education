{
 "cells": [
  {
   "cell_type": "markdown",
   "metadata": {},
   "source": [
    "**Задание 1**. Даны 2 строки: *long_phrase* и *short_phrase*. \n",
    "Напишите код, который проверяет действительно ли длинная фраза *long_phrase* длиннее короткой *short_phrase*. И выводит *True* или *False* в зависимости от результата сравнения."
   ]
  },
  {
   "cell_type": "code",
   "execution_count": null,
   "metadata": {},
   "outputs": [],
   "source": [
    "long_phrase = 'Насколько проще было бы писать программы, если бы не заказчики'\n",
    "short_phrase = '640Кб должно хватить для любых задач. Билл Гейтс (по легенде)'"
   ]
  },
  {
   "cell_type": "code",
   "execution_count": null,
   "metadata": {},
   "outputs": [],
   "source": [
    "long_phrase = 'Насколько проще было бы писать программы, если бы не заказчики'\n",
    "short_phrase = '640Кб должно хватить для любых задач. Билл Гейтс (по легенде)'\n",
    "long_phrase > short_phrase"
   ]
  },
  {
   "cell_type": "markdown",
   "metadata": {},
   "source": [
    "**Задание 2**. Дано значение объема файла в байтах (*в мегабайте 2^20 байт*). Напишите перевод этого значения в мегабайты в формате: \"*Объем файла равен 213.68Mb*\"."
   ]
  },
  {
   "cell_type": "code",
   "execution_count": null,
   "metadata": {},
   "outputs": [],
   "source": [
    "bytes = int(input ('Введите объем файла в байтах '))\n",
    "Mb = bytes / (2 ** 20)\n",
    "print('Объем файла равен {} Mb'.format (Mb) )"
   ]
  },
  {
   "cell_type": "markdown",
   "metadata": {},
   "source": [
    "**Задание 3**. Разработать приложение для определения знака зодиака по дате рождения. Пример:\n",
    "\n",
    "Введите месяц: март\n",
    "\n",
    "Введите число: 6\n",
    "\n",
    "Вывод:\n",
    "Рыбы"
   ]
  },
  {
   "cell_type": "code",
   "execution_count": null,
   "metadata": {},
   "outputs": [],
   "source": [
    "month = (input ('Введите месяц '))\n",
    "day = int(input ('Введите месяц '))\n",
    "if (month.lower() == 'январь' and day >=20) or (month.lower() == 'февраль' and day < 19):\n",
    "    print('Водолей')\n",
    "elif (month.lower() == 'февраль' and day >=19) or (month.lower() == 'март' and day < 21):\n",
    "    print('Рыбы')\n",
    "elif (month.lower() == 'март' and day >=21) or (month.lower() == 'апрель' and day < 22):\n",
    "    print('Овен')\n",
    "elif (month.lower() == 'апрель' and day >=22) or (month.lower() == 'май' and day < 22):\n",
    "    print('Телец')\n",
    "elif (month.lower() == 'май' and day >=22) or (month.lower() == 'июнь' and day < 22):\n",
    "    print('Близнецы')\n",
    "elif (month.lower() == 'июнь' and day >=22) or (month.lower() == 'июль' and day < 23):\n",
    "    print('Рак')\n",
    "elif (month.lower() == 'июль' and day >=23) or (month.lower() == 'август' and day < 24):\n",
    "    print('Лев')\n",
    "elif (month.lower() == 'август' and day >=24) or (month.lower() == 'сентябрь' and day < 23):\n",
    "    print('Дева')\n",
    "elif (month.lower() == 'сентябрь' and day >=23) or (month.lower() == 'октябрь' and day < 23):\n",
    "    print('Весы')\n",
    "elif (month.lower() == 'октябрь' and day >=23) or (month.lower() == 'ноябрь' and day < 22):\n",
    "    print('Скорпион')\n",
    "elif (month.lower() == 'ноябрь' and day >=22) or (month.lower() == 'декабрь' and day < 22):\n",
    "    print('Стрелец')\n",
    "elif (month.lower() == 'декабрь' and day >=22) or (month.lower() == 'январь' and day < 20):\n",
    "    print('Козерог')\n",
    "else:\n",
    "    print('Месяц введен не корректно. Попробуйте еще раз')"
   ]
  },
  {
   "cell_type": "markdown",
   "metadata": {},
   "source": [
    "**Задание 4**. Нужно разработать приложение для финансового планирования.\n",
    "Приложение учитывает сколько уходит на ипотеку, \"на жизнь\" и сколько нужно отложить на пенсию.\n",
    "Пользователь вводит:\n",
    "- заработанную плату в месяц.\n",
    "- сколько процентов от ЗП уходит на ипотеку.\n",
    "- сколько процентов от ЗП уходит \"на жизнь\".\n",
    "- сколько раз приходит премия в год.\n",
    "\n",
    "Остальная часть заработанной платы откладывается на пенсию.\n",
    "\n",
    "Также пользователю приходит премия в размере зарплаты, от которой половина уходит на отпуск, а вторая половина откладывается.\n",
    "\n",
    "Программа должна учитывать сколько премий было в год.\n",
    "\n",
    "Нужно вывести сколько денег тратит пользователь на ипотеку и сколько он накопит за год.\n",
    "\n",
    "Пример:\n",
    "\n",
    "Введите заработанную плату в месяц: 100000\n",
    "\n",
    "Введите сколько процентов уходит на ипотеку: 30\n",
    "\n",
    "Введите сколько процентов уходит на жизнь: 50\n",
    "\n",
    "Введите количество премий за год: 2\n",
    "\n",
    "Вывод:\n",
    "На ипотеку было потрачено: 360000 рублей\n",
    "Было накоплено: 340000 рублей"
   ]
  },
  {
   "cell_type": "code",
   "execution_count": null,
   "metadata": {},
   "outputs": [],
   "source": [
    "# Если правильно поняла задание, считаем на примере 1 года\n",
    "wage = int (input('Введите заработанную плату в месяц: '))\n",
    "mortgage_percent = int (input('Введите сколько процентов уходит на ипотеку:  '))\n",
    "life_percent = int (input('Введите сколько процентов уходит на жизнь: '))\n",
    "reward_number = int (input('Введите количество премий за год: '))\n",
    "reward = reward_number * wage\n",
    "mortgage = mortgage_percent / 100 * wage * 12\n",
    "year_income = 12 * wage + 0.5 * reward  #годовой доход за вычетом затрат на отпуск\n",
    "year_costs = mortgage + 12 * (life_percent / 100 * wage)\n",
    "print(year_income)\n",
    "print(year_costs)\n",
    "savings = year_income - year_costs\n",
    "print ('На ипотеку было потрачено: {} рублей'.format(mortgage), 'Было накоплено: {} рублей'.format(savings))\n"
   ]
  }
 ],
 "metadata": {
  "kernelspec": {
   "display_name": "Python 3",
   "language": "python",
   "name": "python3"
  },
  "language_info": {
   "codemirror_mode": {
    "name": "ipython",
    "version": 3
   },
   "file_extension": ".py",
   "mimetype": "text/x-python",
   "name": "python",
   "nbconvert_exporter": "python",
   "pygments_lexer": "ipython3",
   "version": "3.7.4"
  }
 },
 "nbformat": 4,
 "nbformat_minor": 2
}
