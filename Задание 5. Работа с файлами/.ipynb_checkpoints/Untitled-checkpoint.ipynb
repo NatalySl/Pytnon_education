{
 "cells": [
  {
   "cell_type": "code",
   "execution_count": null,
   "metadata": {},
   "outputs": [],
   "source": [
    "Домашнее задание\n",
    "Переведите содержимое файла purchase_log.txt в словарь purchases вида:\n",
    "\n",
    "{'1840e0b9d4': 'Продукты', ...}\n",
    "Для каждого user_id в файле visit_log.csv определите третий столбец с категорией покупки (если покупка была, сам файл visit_log.csv изменять не надо). Запишите в файл funnel.csv визиты из файла visit_log.csv, в которых были покупки с указанием категории.\n",
    "\n",
    "Учтите условия на данные:\n",
    "\n",
    "содержимое purchase_log.txt помещается в оперативную память компьютера\n",
    "содержимое visit_log.csv - нет; используйте только построчную обработку этого файла\n"
   ]
  },
  {
   "cell_type": "code",
   "execution_count": 16,
   "metadata": {},
   "outputs": [
    {
     "name": "stdout",
     "output_type": "stream",
     "text": [
      "user_id\n",
      "1840e0b9d4\n",
      "4e4f90fcfb\n",
      "afea8d72fc\n",
      "373a6055fe\n"
     ]
    }
   ],
   "source": [
    "a={}\n",
    "s=0\n",
    "import json\n",
    "with open('purchase_log.txt','r',encoding='utf-8') as f:\n",
    "    for i in f:\n",
    "        parsed_line=json.loads(i)\n",
    "        a[parsed_line['user_id']] = parsed_line['category']\n",
    "    for i in a:\n",
    "        if s<5:\n",
    "            print(i)\n",
    "            s+=1\n",
    "\n",
    "with open('visit_log.csv', 'r', encoding='utf-8') as f2: \n",
    "    with open('funnel.csv','w',encoding='utf-8') as f2write:            \n",
    "        for line in f2:\n",
    "            line=line.strip()\n",
    "            user_id = line.split(',')[0]\n",
    "            if user_id in a:\n",
    "                line = f\"{line},{a[user_id]}\\n\"\n",
    "                f2write.write(line)\n",
    "        \n"
   ]
  },
  {
   "cell_type": "code",
   "execution_count": null,
   "metadata": {},
   "outputs": [],
   "source": [
    "line = line.strip()\n",
    "user_id = line.split(',')[0]\n",
    "if user_id in a:\n",
    "  line = f'{line},{a[user_id]\\n}'\n",
    "  f2write(line)"
   ]
  },
  {
   "cell_type": "code",
   "execution_count": null,
   "metadata": {},
   "outputs": [],
   "source": [
    "key = 'new key'\n",
    "value = 123\n",
    "d[new_key] = value"
   ]
  },
  {
   "cell_type": "code",
   "execution_count": null,
   "metadata": {},
   "outputs": [],
   "source": [
    "Вся загадка задания в том, что информацию о покупках надо брать по ключу (айди пользователя) из словаря, созданного ранее, и добавлять полученную категорию к строке, а строку - записывать в файл"
   ]
  }
 ],
 "metadata": {
  "kernelspec": {
   "display_name": "Python 3",
   "language": "python",
   "name": "python3"
  },
  "language_info": {
   "codemirror_mode": {
    "name": "ipython",
    "version": 3
   },
   "file_extension": ".py",
   "mimetype": "text/x-python",
   "name": "python",
   "nbconvert_exporter": "python",
   "pygments_lexer": "ipython3",
   "version": "3.7.4"
  }
 },
 "nbformat": 4,
 "nbformat_minor": 2
}
