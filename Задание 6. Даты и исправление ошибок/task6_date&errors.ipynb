{
 "cells": [
  {
   "cell_type": "code",
   "execution_count": null,
   "metadata": {},
   "outputs": [],
   "source": [
    "Задание 1\n",
    "Печатные газеты использовали свой формат дат для каждого выпуска. Для каждой газеты из списка напишите формат указанной даты для перевода в объект datetime:\n",
    "The Moscow Times - Wednesday, October 2, 2002\n",
    "The Guardian - Friday, 11.10.13\n",
    "Daily News - Thursday, 18 August 1977\n"
   ]
  },
  {
   "cell_type": "code",
   "execution_count": 13,
   "metadata": {},
   "outputs": [
    {
     "data": {
      "text/plain": [
       "datetime.datetime(1977, 8, 18, 0, 0)"
      ]
     },
     "execution_count": 13,
     "metadata": {},
     "output_type": "execute_result"
    }
   ],
   "source": [
    "#Решение задание 1\n",
    "\n",
    "from datetime import datetime\n",
    "The_Moscow_Times = 'Wednesday, October 2, 2002'\n",
    "The_Guardian = 'Friday, 11.10.13'\n",
    "Daily_News = 'Thursday, 18 August 1977'\n",
    "\n",
    "datetime.strptime(The_Moscow_Times, '%A, %B %w, %Y')\n",
    "datetime.strptime(The_Guardian, '%A, %d.%m.%y')\n",
    "datetime.strptime(Daily_News, '%A, %d %B %Y')"
   ]
  },
  {
   "cell_type": "code",
   "execution_count": 20,
   "metadata": {},
   "outputs": [
    {
     "name": "stdout",
     "output_type": "stream",
     "text": [
      "2018-04-02 True\n",
      "2018-02-29 False\n",
      "2018-19-02 False\n"
     ]
    }
   ],
   "source": [
    "#Задание 2\n",
    "#Дан поток дат в формате YYYY-MM-DD, в которых встречаются некорректные значения:\n",
    "stream = ['2018-04-02', '2018-02-29', '2018-19-02']\n",
    "\n",
    "#Напишите функцию, которая проверяет эти даты на корректность. \n",
    "#Т. е. для каждой даты возвращает True (дата корректна) или False (некорректная дата).\n",
    "\n",
    "for el in stream:\n",
    "    try:\n",
    "        datetime.strptime(el, '%Y-%m-%d')\n",
    "        print(f'{el} True')\n",
    "    except:\n",
    "        print(f'{el} False')\n",
    "    "
   ]
  },
  {
   "cell_type": "code",
   "execution_count": 44,
   "metadata": {},
   "outputs": [
    {
     "name": "stdout",
     "output_type": "stream",
     "text": [
      "Введите дату старта в формате YYYY-MM-DD 2020-01-10\n",
      "Введите дату окончания YYYY- MM-DD 2020-01-15\n",
      "2020-01-10 00:00:00\n",
      "2020-01-11 00:00:00\n",
      "2020-01-12 00:00:00\n",
      "2020-01-13 00:00:00\n",
      "2020-01-14 00:00:00\n",
      "2020-01-15 00:00:00\n"
     ]
    }
   ],
   "source": [
    "#Решение задачи 3\n",
    "#Напишите функцию date_range, которая возвращает список дат\n",
    "#за период от start_date до end_date. Даты должны вводиться в формате YYYY-MM-DD. \n",
    "#В случае неверного формата или при start_date > end_date должен возвращаться пустой список.\n",
    "\n",
    "from datetime import timedelta\n",
    "#start_date = input('Введите дату старта в формате YYYY-MM-DD ')\n",
    "# end_date = input('Введите дату окончания YYYY-MM-DD ')\n",
    "\n",
    "def date_range():\n",
    "    try:\n",
    "        start_date = input('Введите дату старта в формате YYYY-MM-DD ')\n",
    "        end_date = input('Введите дату окончания YYYY- MM-DD ')\n",
    "        start_date = datetime.strptime(start_date,'%Y-%m-%d')\n",
    "        end_date = datetime.strptime(end_date,'%Y-%m-%d')\n",
    "        if start_date > end_date:\n",
    "            return ''\n",
    "        else:\n",
    "            while start_date <= end_date:\n",
    "                print(start_date)\n",
    "                start_date += timedelta(days=1)\n",
    "    except:\n",
    "        return ''\n",
    "                \n",
    "date_range()  \n",
    "        \n",
    "                   "
   ]
  },
  {
   "cell_type": "code",
   "execution_count": null,
   "metadata": {},
   "outputs": [],
   "source": [
    "#Ответ по заданию 4\n",
    "\n",
    "программа не находит индекс при повторном выполнении (он перестает существовать).\n",
    "если не ошибаюсь, индекс надо задать с 0, а не 1."
   ]
  }
 ],
 "metadata": {
  "kernelspec": {
   "display_name": "Python 3",
   "language": "python",
   "name": "python3"
  },
  "language_info": {
   "codemirror_mode": {
    "name": "ipython",
    "version": 3
   },
   "file_extension": ".py",
   "mimetype": "text/x-python",
   "name": "python",
   "nbconvert_exporter": "python",
   "pygments_lexer": "ipython3",
   "version": "3.7.4"
  }
 },
 "nbformat": 4,
 "nbformat_minor": 2
}
