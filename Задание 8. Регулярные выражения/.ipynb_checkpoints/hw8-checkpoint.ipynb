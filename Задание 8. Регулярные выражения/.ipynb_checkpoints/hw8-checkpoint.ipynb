{
 "cells": [
  {
   "cell_type": "code",
   "execution_count": 4,
   "metadata": {},
   "outputs": [],
   "source": [
    "import re"
   ]
  },
  {
   "cell_type": "code",
   "execution_count": 19,
   "metadata": {},
   "outputs": [
    {
     "data": {
      "text/plain": [
       "'не является номером'"
      ]
     },
     "execution_count": 19,
     "metadata": {},
     "output_type": "execute_result"
    }
   ],
   "source": [
    "#Задание 1\n",
    "#Напишите функцию, которая принимает на вход строку и проверяет является ли она валидным транспортным номером. \n",
    "#Если да, то функция должна возвращать отдельно номер и регион.\n",
    "#^[АВЕКМНОРСТУХ]\\d{3}[АВЕКМНОРСТУХ]{2}\\d{2,3}RUS\n",
    "number = 'А472ВХ66RUS'\n",
    "number1 = 'a456kl'\n",
    "\n",
    "\n",
    "def auto_number(string):\n",
    "    result = re.findall(r'(^[АВЕКМНОРСТУХ]\\d{3}[АВЕКМНОРСТУХ]{2})(\\d{2,3})', string)\n",
    "    if (result):\n",
    "        return f'{result[0][0]}, {result[0][1]}'\n",
    "    return 'не является номером'\n",
    "    \n",
    "auto_number(number1)"
   ]
  },
  {
   "cell_type": "code",
   "execution_count": null,
   "metadata": {},
   "outputs": [],
   "source": [
    "Задание 2\n",
    "**Задание 2.**\n",
    " Постарайтесь написать (в крайнем случае найти) самый полный шаблон для проверки e-mail адресов через регулярное выражение, которая проверяет e-mail адрес на валидность. Можно руководствоваться следующими минимальными требованиями:\n",
    "• адрес должен содержать специальный символ \"@\", который отделяет имя пользователя почтовой системы от доменного имени;\n",
    "• адрес не должен содержать следующие символы: \"пробел\", \",\", \":\", \";\", \"!\", \"#\", \"%\", \"*\", \"(\", \")\", \"=\", \"+\", \"{\", \"}\", \" \" \", \" ' \", \" / \", \" \\ \" и \"|\";\n",
    "• адрес должен состоять только из латинских символов;\n",
    "• после символа \"@\" должна быть как минимум одна \".\";\n",
    "• после последней точки должно быть не менее 2-х и не более 4-х символов, причем наличие цифр не допускается;\n",
    "• между последней точкой и символом \"@\" должно быть не менее 2-х символов\n",
    "• слева от \"@\" должно быть не менее четырех символов"
   ]
  },
  {
   "cell_type": "code",
   "execution_count": 7,
   "metadata": {},
   "outputs": [
    {
     "data": {
      "text/plain": [
       "['Test_2285@yandex.ru']"
      ]
     },
     "execution_count": 7,
     "metadata": {},
     "output_type": "execute_result"
    }
   ],
   "source": [
    "# Решение задачи 2\n",
    "mail = 'Test_2285@yandex.ru'\n",
    "re.findall(r'^[A-Za-z0-9._]{4,}@[A-Za-z0-9-]+.+[A-Za-z]{2,4}', mail)"
   ]
  },
  {
   "cell_type": "code",
   "execution_count": null,
   "metadata": {},
   "outputs": [],
   "source": [
    "Задание 3. Напишите функцию, которая будет удалять все последовательные повторы слов из заданной строки \n",
    "при помощи регулярных выражений."
   ]
  },
  {
   "cell_type": "code",
   "execution_count": 11,
   "metadata": {},
   "outputs": [
    {
     "data": {
      "text/plain": [
       "'удалить повторы удалить повторы'"
      ]
     },
     "execution_count": 11,
     "metadata": {},
     "output_type": "execute_result"
    }
   ],
   "source": [
    "# Решение задачи 3\n",
    "def remove_repeats(text):\n",
    "    return re.sub(r'(\\b\\w+)(\\s\\1)+', r'\\1', text)\n",
    "text = 'удалить удалить повторы удалить повторы повторы'\n",
    "remove_repeats(text)"
   ]
  },
  {
   "cell_type": "markdown",
   "metadata": {},
   "source": [
    "4. Напишите функцию, которая будет проверять номер сотового телефона на валидность, если он валиден, то переводить его в формат:\n",
    "+7(xxx)-xxx-xx-xx\n",
    "​\n",
    "Постарайтесь предусмотреть как можно больше адекватных форматов изначального ввода номера. Примеры валидных форматов\n"
   ]
  },
  {
   "cell_type": "code",
   "execution_count": 16,
   "metadata": {},
   "outputs": [],
   "source": [
    "# Решение задачи 4\n",
    "def phone_number(number):\n",
    "    number = re.sub(r'\\D+','',number)\n",
    "    if len(number) == 10:\n",
    "        return re.sub(r'(\\d{3})(\\d{3})(\\d{2})(\\d{2})',r'+7(\\1)-\\2-\\3-\\4',number)\n",
    "    elif len(number) == 11 and number[0] in ['7','8']:\n",
    "        return re.sub(r'\\d(\\d{3})(\\d{3})(\\d{2})(\\d{2})',r'+7(\\1)-\\2-\\3-\\4',number)\n",
    "    else:\n",
    "        return 'это не номер телефона'"
   ]
  },
  {
   "cell_type": "code",
   "execution_count": 17,
   "metadata": {},
   "outputs": [
    {
     "data": {
      "text/plain": [
       "'это не номер телефона'"
      ]
     },
     "execution_count": 17,
     "metadata": {},
     "output_type": "execute_result"
    }
   ],
   "source": [
    "phone_number('88911-21-73401')"
   ]
  },
  {
   "cell_type": "code",
   "execution_count": 18,
   "metadata": {},
   "outputs": [
    {
     "data": {
      "text/plain": [
       "'+7(911)-217-34-01'"
      ]
     },
     "execution_count": 18,
     "metadata": {},
     "output_type": "execute_result"
    }
   ],
   "source": [
    "phone_number('911-21-73401')"
   ]
  },
  {
   "cell_type": "code",
   "execution_count": null,
   "metadata": {},
   "outputs": [],
   "source": []
  }
 ],
 "metadata": {
  "kernelspec": {
   "display_name": "Python 3",
   "language": "python",
   "name": "python3"
  },
  "language_info": {
   "codemirror_mode": {
    "name": "ipython",
    "version": 3
   },
   "file_extension": ".py",
   "mimetype": "text/x-python",
   "name": "python",
   "nbconvert_exporter": "python",
   "pygments_lexer": "ipython3",
   "version": "3.7.4"
  }
 },
 "nbformat": 4,
 "nbformat_minor": 2
}
